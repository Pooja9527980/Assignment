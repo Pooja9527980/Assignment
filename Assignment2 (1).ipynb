{
 "cells": [
  {
   "cell_type": "markdown",
   "id": "37ce66d3-1c12-4e13-bfae-8cd2f8a8bf61",
   "metadata": {},
   "source": [
    " Q1.What is the role of try and exception block?"
   ]
  },
  {
   "cell_type": "raw",
   "id": "783bde0e-c017-4348-a1fb-4926790aac1f",
   "metadata": {},
   "source": [
    "1.The try block lets you test a block of code for errors. \n",
    "2.The except block lets you handle the error."
   ]
  },
  {
   "cell_type": "markdown",
   "id": "c0fa83c4-2e0b-475a-8ffc-d93e1753148d",
   "metadata": {},
   "source": [
    "Q2.What is the syntax for a basic try-except block?"
   ]
  },
  {
   "cell_type": "code",
   "execution_count": 9,
   "id": "2ac11236-998a-4041-a2a1-52d693259ea9",
   "metadata": {},
   "outputs": [
    {
     "name": "stdout",
     "output_type": "stream",
     "text": [
      "You can't divide by zero!\n"
     ]
    }
   ],
   "source": [
    "try:\n",
    "    result = 10 / 0  \n",
    "except ZeroDivisionError:\n",
    "    print(\"You can't divide by zero!\")\n"
   ]
  },
  {
   "cell_type": "markdown",
   "id": "16d093d1-ce36-4791-abc7-9484b72e0dcc",
   "metadata": {},
   "source": [
    "Q3.What happens if an exception occurs inside a try block and there is no matching\n",
    "except block?"
   ]
  },
  {
   "cell_type": "raw",
   "id": "b791e522-1f57-4443-8ebc-9706adcc1b8d",
   "metadata": {},
   "source": [
    "If an exception occurs inside a try block and there is no matching except block to handle that exception, the exception will propagate up the call stack. \n",
    "Propagation Up the Call Stack: Python will continue to search for an appropriate except block in the calling functions or modules.\n",
    "Program Termination: If the exception is not handled anywhere in the call stack, it will eventually reach the top level of the program (i.e., the main program). "
   ]
  },
  {
   "cell_type": "markdown",
   "id": "4b62dca3-963c-4d16-ba35-bedae1297463",
   "metadata": {},
   "source": [
    "Q4.What is the difference between using a bare except block and specifying a specific\n",
    "exception type?"
   ]
  },
  {
   "cell_type": "raw",
   "id": "85a0bc23-455e-46b3-99e5-e722a079c19c",
   "metadata": {},
   "source": [
    "In Python, using a bare except block versus specifying a specific exception type has important implications for error handling. \n",
    "A bare except block catches all exceptions, including those derived from the base Exception class and, in some cases, even system-exiting exceptions like SystemExit, KeyboardInterrupt, and GeneratorExit.\n",
    "A bare except: clause will catch SystemExit and KeyboardInterrupt exceptions, making it harder to interrupt a program with Control-C, and can disguise other problems. If you want to catch all exceptions that signal program errors, use except Exception: (bare except is equivalent to except BaseException:)."
   ]
  },
  {
   "cell_type": "markdown",
   "id": "9c293a4a-e989-43cc-907c-1f6fe3db33c0",
   "metadata": {},
   "source": [
    "Q5.Can you have nested try-except blocks in Python? If yes, then give an example"
   ]
  },
  {
   "cell_type": "raw",
   "id": "8880d7c2-4c33-492c-8393-a31ea16094ec",
   "metadata": {},
   "source": [
    "To handle them, we need nested try blocks. We start with an example having a single \"try − except − finally\" construct. If the statements inside try encounter exception, it is handled by except block. With or without exception occurred, the finally block is always executed."
   ]
  },
  {
   "cell_type": "markdown",
   "id": "853df59d-0c86-4da3-a09c-df8750c06d87",
   "metadata": {},
   "source": [
    "Q6.Can we use multiple exception blocks, if yes then give an example."
   ]
  },
  {
   "cell_type": "raw",
   "id": "d8ba5557-978c-46db-a309-df7bb1d648fb",
   "metadata": {},
   "source": [
    "It is possible to have multiple except blocks for one try block. Let us see Python multiple exception handling examples. When the interpreter encounters an exception, it checks the except blocks associated with that try block. These except blocks may declare what kind of exceptions they handle."
   ]
  },
  {
   "cell_type": "raw",
   "id": "05b9098a-5272-4bdc-aecb-59c80f4cb563",
   "metadata": {},
   "source": [
    "Q7.Write the reason due to which following errors are raised:\n",
    "a. EOFError\n",
    "b. FloatingPointError\n",
    "c. IndexError\n",
    "d. MemoryError\n",
    "e. OverflowError\n",
    "f. TabError\n",
    "g. ValueError"
   ]
  },
  {
   "cell_type": "raw",
   "id": "67dd735c-a81b-4a9d-a7af-85cde25db740",
   "metadata": {},
   "source": [
    "a.EOFError\n",
    "Reason: Raised when the input() function or other functions trying to read data from a file or other input source reach the end-of-file (EOF) condition without reading any data."
   ]
  },
  {
   "cell_type": "code",
   "execution_count": 16,
   "id": "3e459801-c7fb-4eb5-b537-0762efeba0b7",
   "metadata": {},
   "outputs": [
    {
     "name": "stdin",
     "output_type": "stream",
     "text": [
      " hjk\n"
     ]
    }
   ],
   "source": [
    "try:\n",
    "    input()  \n",
    "except EOFError:\n",
    "    print(\"EOFError: End of file reached without reading any data.\")\n"
   ]
  },
  {
   "cell_type": "raw",
   "id": "3cbad522-06ab-40a6-a4c3-dd98753b997b",
   "metadata": {},
   "source": [
    "b. FloatingPointError\n",
    "Reason: Raised when a floating-point operation fails, such as an overflow in floating-point calculations, division by zero, or invalid operations involving floating-point numbers. This is less common in typical code but can be triggered by specific operations or settings."
   ]
  },
  {
   "cell_type": "code",
   "execution_count": 18,
   "id": "b59241b7-eda0-4ff6-af57-be9c95db9318",
   "metadata": {},
   "outputs": [
    {
     "name": "stdout",
     "output_type": "stream",
     "text": [
      "FloatingPointError: Overflow in floating-point operation.\n"
     ]
    }
   ],
   "source": [
    "import numpy as np\n",
    "np.seterr(over='raise')  \n",
    "try:\n",
    "    result = np.float64(1.0e+308) * 1.0e+308  \n",
    "except FloatingPointError:\n",
    "    print(\"FloatingPointError: Overflow in floating-point operation.\")\n"
   ]
  },
  {
   "cell_type": "raw",
   "id": "d087e223-2f25-4319-900f-8390147abd76",
   "metadata": {},
   "source": [
    "c. IndexError\n",
    "Reason: Raised when trying to access an element in a list, tuple, or other sequence types using an index that is out of the valid range."
   ]
  },
  {
   "cell_type": "code",
   "execution_count": 24,
   "id": "2e7a511a-69a7-46b4-b218-c75e70548d19",
   "metadata": {},
   "outputs": [
    {
     "name": "stdout",
     "output_type": "stream",
     "text": [
      "IndexError: Index is out of range.\n"
     ]
    }
   ],
   "source": [
    "my_list = [1, 2, 3]\n",
    "try:\n",
    "    print(my_list[5])  \n",
    "except IndexError:\n",
    "    print(\"IndexError: Index is out of range.\")\n"
   ]
  },
  {
   "cell_type": "raw",
   "id": "b845a5e2-9c60-4670-9649-ab433c293334",
   "metadata": {},
   "source": [
    "d. MemoryError\n",
    "Reason: Raised when an operation runs out of memory. This can happen if you are trying to allocate a very large amount of memory or if the system memory is exhausted."
   ]
  },
  {
   "cell_type": "code",
   "execution_count": 22,
   "id": "7a768769-595c-4cea-8e83-68a9a9e8d692",
   "metadata": {},
   "outputs": [
    {
     "name": "stdout",
     "output_type": "stream",
     "text": [
      "MemoryError: Not enough memory to allocate the requested resource.\n"
     ]
    }
   ],
   "source": [
    "try:\n",
    "    large_list = [0] * (10**10)\n",
    "except MemoryError:\n",
    "    print(\"MemoryError: Not enough memory to allocate the requested resource.\")\n"
   ]
  },
  {
   "cell_type": "raw",
   "id": "d53d2fa7-a898-497e-8dbe-c366e4cfdd20",
   "metadata": {},
   "source": [
    "e. OverflowError\n",
    "Reason: Raised when an arithmetic operation exceeds the maximum limit of the data type. This often occurs in integer or floating-point arithmetic where values exceed the allowable range."
   ]
  },
  {
   "cell_type": "code",
   "execution_count": 40,
   "id": "4fbbb079-0141-4cd1-b9f2-37ea0dee6812",
   "metadata": {},
   "outputs": [],
   "source": [
    "try:\n",
    "    result = 1e308 * 1e308\n",
    "except OverflowError:\n",
    "    print(\"OverflowError: Arithmetic operation exceeds the maximum limit.\")\n"
   ]
  },
  {
   "cell_type": "raw",
   "id": "ad12168f-f64d-4707-96a0-bb4ad3ca47f0",
   "metadata": {},
   "source": [
    "f. TabError\n",
    "Reason: Raised when inconsistent use of tabs and spaces for indentation is detected. This error occurs when the code’s indentation is not uniform and mixing tabs with spaces in a way that confuses the interpreter."
   ]
  },
  {
   "cell_type": "code",
   "execution_count": 42,
   "id": "38a73556-f5f9-4226-8f21-8c5a8b84513b",
   "metadata": {},
   "outputs": [],
   "source": [
    "def my_function():\n",
    "    if True:\n",
    "        print(\"Hello\")\n",
    "    else:\n",
    "        print(\"World\")  \n"
   ]
  },
  {
   "cell_type": "raw",
   "id": "d674baaa-afb5-4d71-8bb0-e909ce8221c7",
   "metadata": {},
   "source": [
    "g. ValueError\n",
    "Reason: Raised when a function receives an argument of the correct type but with an inappropriate value. For example, converting a string that does not represent a valid number to an integer or float."
   ]
  },
  {
   "cell_type": "code",
   "execution_count": 44,
   "id": "51fbc51c-3e87-4f1b-b970-03373c26128a",
   "metadata": {},
   "outputs": [
    {
     "name": "stdout",
     "output_type": "stream",
     "text": [
      "ValueError: Invalid value for conversion or operation.\n"
     ]
    }
   ],
   "source": [
    "try:\n",
    "    number = int(\"abc\") \n",
    "except ValueError:\n",
    "    print(\"ValueError: Invalid value for conversion or operation.\")\n"
   ]
  },
  {
   "cell_type": "raw",
   "id": "c730067a-c23b-4afe-b1e3-a510e777a2d3",
   "metadata": {},
   "source": [
    "Q8.Write code for the following given scenario and add try-exception block to it.\n",
    "a. Program to divide two numbers\n",
    "b. Program to convert a string to an integer\n",
    "c. Program to access an element in a list\n",
    "d. Program to handle a specific exception\n",
    "e. Program to handle any exception"
   ]
  },
  {
   "cell_type": "raw",
   "id": "b601acc4-fa96-4858-89c6-cc4fdb29d649",
   "metadata": {},
   "source": [
    "a. Program to Divide Two Numbers"
   ]
  },
  {
   "cell_type": "code",
   "execution_count": 52,
   "id": "c0c6707e-d103-4f15-80ad-15df02702042",
   "metadata": {},
   "outputs": [
    {
     "name": "stdout",
     "output_type": "stream",
     "text": [
      "Result: 5.0\n",
      "Error: Cannot divide by zero.\n"
     ]
    }
   ],
   "source": [
    "def divide_numbers(x, y):\n",
    "    try:\n",
    "        result = x / y\n",
    "        print(f\"Result: {result}\")\n",
    "    except ZeroDivisionError:\n",
    "        print(\"Error: Cannot divide by zero.\")\n",
    "    except Exception as e:\n",
    "        print(f\"An unexpected error occurred: {e}\")\n",
    "divide_numbers(10, 2)  \n",
    "divide_numbers(10, 0)  "
   ]
  },
  {
   "cell_type": "raw",
   "id": "711e3508-f705-45e6-8587-372756d0cd7a",
   "metadata": {},
   "source": [
    "b. Program to Convert a String to an Integer"
   ]
  },
  {
   "cell_type": "code",
   "execution_count": 50,
   "id": "4d0ab862-5c90-459c-b5d7-37fd87e3b54c",
   "metadata": {},
   "outputs": [
    {
     "name": "stdout",
     "output_type": "stream",
     "text": [
      "Converted number: 123\n",
      "Error: The string could not be converted to an integer.\n"
     ]
    }
   ],
   "source": [
    "def convert_to_integer(s):\n",
    "    try:\n",
    "        number = int(s)\n",
    "        print(f\"Converted number: {number}\")\n",
    "    except ValueError:\n",
    "        print(\"Error: The string could not be converted to an integer.\")\n",
    "    except Exception as e:\n",
    "        print(f\"An unexpected error occurred: {e}\")\n",
    "convert_to_integer(\"123\")  \n",
    "convert_to_integer(\"abc\")  \n"
   ]
  },
  {
   "cell_type": "raw",
   "id": "1af66218-9803-4d2d-9980-152954d72fb6",
   "metadata": {},
   "source": [
    "c. Program to Access an Element in a List"
   ]
  },
  {
   "cell_type": "code",
   "execution_count": 54,
   "id": "944e1214-5f91-41c0-9f3f-25f6a88ef74a",
   "metadata": {},
   "outputs": [
    {
     "name": "stdout",
     "output_type": "stream",
     "text": [
      "Element at index 1: 2\n",
      "Error: Index is out of range.\n"
     ]
    }
   ],
   "source": [
    "def access_list_element(lst, index):\n",
    "    try:\n",
    "        element = lst[index]\n",
    "        print(f\"Element at index {index}: {element}\")\n",
    "    except IndexError:\n",
    "        print(\"Error: Index is out of range.\")\n",
    "    except Exception as e:\n",
    "        print(f\"An unexpected error occurred: {e}\")\n",
    "my_list = [1, 2, 3]\n",
    "access_list_element(my_list, 1) \n",
    "access_list_element(my_list, 5) \n"
   ]
  },
  {
   "cell_type": "raw",
   "id": "044965c0-42eb-4ec2-be22-01a08b470168",
   "metadata": {},
   "source": [
    "d. Program to Handle a Specific Exception"
   ]
  },
  {
   "cell_type": "code",
   "execution_count": 1,
   "id": "64e9ca75-628c-4ee1-adad-b41efdb84858",
   "metadata": {},
   "outputs": [
    {
     "name": "stdout",
     "output_type": "stream",
     "text": [
      "FileNotFoundError caught: File not found error example.\n"
     ]
    }
   ],
   "source": [
    "def specific_exception_handling():\n",
    "    try:\n",
    "        raise FileNotFoundError(\"File not found error example.\")\n",
    "    except FileNotFoundError as e:\n",
    "        print(f\"FileNotFoundError caught: {e}\")\n",
    "specific_exception_handling() \n"
   ]
  },
  {
   "cell_type": "code",
   "execution_count": null,
   "id": "1c8bb94e-fc3d-470c-b6bb-82c596acace1",
   "metadata": {},
   "outputs": [],
   "source": []
  }
 ],
 "metadata": {
  "kernelspec": {
   "display_name": "Python 3 (ipykernel)",
   "language": "python",
   "name": "python3"
  },
  "language_info": {
   "codemirror_mode": {
    "name": "ipython",
    "version": 3
   },
   "file_extension": ".py",
   "mimetype": "text/x-python",
   "name": "python",
   "nbconvert_exporter": "python",
   "pygments_lexer": "ipython3",
   "version": "3.12.4"
  }
 },
 "nbformat": 4,
 "nbformat_minor": 5
}
