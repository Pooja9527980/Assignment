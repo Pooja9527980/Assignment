{
 "cells": [
  {
   "cell_type": "markdown",
   "id": "16373ffc-7af9-423f-964d-09582d52d8bb",
   "metadata": {},
   "source": [
    "Q1.what is exception handling write an example of exception handling"
   ]
  },
  {
   "cell_type": "markdown",
   "id": "def31311-1a4f-4f25-9693-e7bc095bd423",
   "metadata": {},
   "source": [
    "Exception handling in Python is a process of resolving errors that occur in a program.  This involves catching exceptions, understanding what caused them, and then responding accordingly. Exceptions are errors that occur at runtime when the program is being executed"
   ]
  },
  {
   "cell_type": "code",
   "execution_count": 105,
   "id": "77f337d2-3c55-4cf1-b1fe-3db4c5227348",
   "metadata": {},
   "outputs": [
    {
     "name": "stdin",
     "output_type": "stream",
     "text": [
      "Enter value 1  8\n",
      "Enter value 2  9\n"
     ]
    },
    {
     "name": "stdout",
     "output_type": "stream",
     "text": [
      "Division is  0.8888888888888888\n"
     ]
    }
   ],
   "source": [
    "import sys\n",
    "while True:\n",
    "     try:\n",
    "         a=int(input('Enter value 1 '))\n",
    "         b=int(input('Enter value 2 '))\n",
    "         c=a/b\n",
    "         print('Division is ',c)\n",
    "         break\n",
    "     except:\n",
    "         a,b,c=sys.exc_info()\n",
    "         print('Exception class :',a)\n",
    "         print('Exception message :',b)\n",
    "         print('Line number :',c.tb_lineno)"
   ]
  },
  {
   "cell_type": "markdown",
   "id": "379636c1-d81d-48e7-afbd-8bcf0015e7b5",
   "metadata": {},
   "source": [
    "q2.What is dictionary compression and list list compression write an example"
   ]
  },
  {
   "cell_type": "code",
   "execution_count": null,
   "id": "914057b2-361f-431b-85b2-ab29ae28a9b8",
   "metadata": {},
   "outputs": [],
   "source": []
  },
  {
   "cell_type": "markdown",
   "id": "2a29fc57-e510-44fe-aa0d-0f2d0a87d8b9",
   "metadata": {},
   "source": [
    "Dictionary Comprehension is a method in which we can compress a code in a single line and required result will be in dictionary format."
   ]
  },
  {
   "cell_type": "code",
   "execution_count": 110,
   "id": "6cf5a8dc-7ddc-452c-a8fd-c5dd94a84c0e",
   "metadata": {},
   "outputs": [
    {
     "name": "stdout",
     "output_type": "stream",
     "text": [
      "{1: 1, 2: 4, 3: 9, 4: 16, 5: 25}\n"
     ]
    }
   ],
   "source": [
    "squares = {x: x**2 for x in range(1, 6)}\n",
    "print(squares)\n"
   ]
  },
  {
   "cell_type": "markdown",
   "id": "e6a651d6-aa8e-43bd-ad04-887ae0c163e2",
   "metadata": {},
   "source": [
    "List compression, or list comprehension, is a concise way to create lists. It allows you to generate lists using an expression inside square brackets []."
   ]
  },
  {
   "cell_type": "code",
   "execution_count": 108,
   "id": "3a7393a7-04eb-402d-949c-173b1ae89496",
   "metadata": {},
   "outputs": [
    {
     "name": "stdout",
     "output_type": "stream",
     "text": [
      "[0, 2, 4, 6, 8, 10]\n"
     ]
    }
   ],
   "source": [
    "evens = [x for x in range(11) if x % 2 == 0]\n",
    "print(evens)\n"
   ]
  },
  {
   "cell_type": "markdown",
   "id": "be25263b-c167-4720-9380-de6542eb26c3",
   "metadata": {},
   "source": [
    "q3.lst1=[2,3,4,5] return the square of the list using map function"
   ]
  },
  {
   "cell_type": "code",
   "execution_count": 14,
   "id": "711049be-ada6-4183-bf93-00bfa793f821",
   "metadata": {},
   "outputs": [
    {
     "name": "stdout",
     "output_type": "stream",
     "text": [
      "[1, 4, 9, 16, 25]\n"
     ]
    }
   ],
   "source": [
    "lst = [1, 2, 3, 4, 5]\n",
    "squared_lst = list(map(lambda x: x ** 2, lst))\n",
    "print(squared_lst)"
   ]
  },
  {
   "cell_type": "markdown",
   "id": "48ae6a26-26cb-40b2-9097-9eb8023fb963",
   "metadata": {},
   "source": [
    "q4.lst1=[3,4,5,6,7,8,9] print all even number using filter function"
   ]
  },
  {
   "cell_type": "code",
   "execution_count": 18,
   "id": "7be20d72-ae7a-498a-aed2-d5a38c90c138",
   "metadata": {},
   "outputs": [
    {
     "name": "stdout",
     "output_type": "stream",
     "text": [
      "[4, 6, 8]\n"
     ]
    }
   ],
   "source": [
    "lst1 = [3, 4, 5, 6, 7, 8, 9]\n",
    "even_no = list(filter(lambda x: x % 2 == 0, lst1))\n",
    "print(even_no)"
   ]
  },
  {
   "cell_type": "markdown",
   "id": "e31a424d-11ce-4854-9dd0-eaf537d83b4d",
   "metadata": {},
   "source": [
    "q5.st=\"station\" remove the space of st"
   ]
  },
  {
   "cell_type": "code",
   "execution_count": 49,
   "id": "11c4b573-6de5-4625-ad52-a9ca04ae3347",
   "metadata": {},
   "outputs": [
    {
     "data": {
      "text/plain": [
       "'station'"
      ]
     },
     "execution_count": 49,
     "metadata": {},
     "output_type": "execute_result"
    }
   ],
   "source": [
    "st=\"station\"\n",
    "st"
   ]
  },
  {
   "cell_type": "code",
   "execution_count": 55,
   "id": "bf611cca-a11c-482e-bd18-fe2afebb6c17",
   "metadata": {},
   "outputs": [
    {
     "name": "stdout",
     "output_type": "stream",
     "text": [
      "['__add__', '__class__', '__contains__', '__delattr__', '__dir__', '__doc__', '__eq__', '__format__', '__ge__', '__getattribute__', '__getitem__', '__getnewargs__', '__getstate__', '__gt__', '__hash__', '__init__', '__init_subclass__', '__iter__', '__le__', '__len__', '__lt__', '__mod__', '__mul__', '__ne__', '__new__', '__reduce__', '__reduce_ex__', '__repr__', '__rmod__', '__rmul__', '__setattr__', '__sizeof__', '__str__', '__subclasshook__', 'capitalize', 'casefold', 'center', 'count', 'encode', 'endswith', 'expandtabs', 'find', 'format', 'format_map', 'index', 'isalnum', 'isalpha', 'isascii', 'isdecimal', 'isdigit', 'isidentifier', 'islower', 'isnumeric', 'isprintable', 'isspace', 'istitle', 'isupper', 'join', 'ljust', 'lower', 'lstrip', 'maketrans', 'partition', 'removeprefix', 'removesuffix', 'replace', 'rfind', 'rindex', 'rjust', 'rpartition', 'rsplit', 'rstrip', 'split', 'splitlines', 'startswith', 'strip', 'swapcase', 'title', 'translate', 'upper', 'zfill']\n"
     ]
    }
   ],
   "source": [
    "print(dir(st))"
   ]
  },
  {
   "cell_type": "code",
   "execution_count": 65,
   "id": "32c80958-f91b-48f6-abd5-78e9e081993f",
   "metadata": {
    "scrolled": true
   },
   "outputs": [
    {
     "data": {
      "text/plain": [
       "'STATION'"
      ]
     },
     "execution_count": 65,
     "metadata": {},
     "output_type": "execute_result"
    }
   ],
   "source": [
    "st=st.strip()\n",
    "st"
   ]
  },
  {
   "cell_type": "markdown",
   "id": "cd9522c5-0509-4169-add6-5d99b45703d3",
   "metadata": {},
   "source": [
    "q6.make a banck acc class write deposite and withdraw method make atleast 2 object"
   ]
  },
  {
   "cell_type": "code",
   "execution_count": 112,
   "id": "5b95dd41-b208-43e8-8573-95d05cfc3d6f",
   "metadata": {},
   "outputs": [],
   "source": [
    "class BankAccount:\n",
    "    def __init__(self,name,account_number,balance=0):\n",
    "        self.name=name\n",
    "        self.account_number=account_number\n",
    "        self.balance=balance\n",
    "    def detail(self):\n",
    "        print(f\"{self.name} your account number is {self.account_number} and your balance is {self.balance}\")\n",
    "    def deposite(self,d_amount):\n",
    "        self.balance=self.balance+d_amount\n",
    "        print(f\"your account has been credited with {d_amount} and your new balance is {self.balance}\")\n",
    "    def withdrawl(self,w_amount):\n",
    "        if self.balance<w_amount:\n",
    "            print(f\"your account balance is not sufficient your current balance is {self.balance}\")\n",
    "        else:\n",
    "            self.balance=self.balance-w_amount\n",
    "            print(f\"your account has been debited {w_amount} and your new balance is {self.balance}\")\n"
   ]
  },
  {
   "cell_type": "code",
   "execution_count": 116,
   "id": "90c70cec-6d69-4f36-93f0-34939703ca7d",
   "metadata": {},
   "outputs": [
    {
     "name": "stdout",
     "output_type": "stream",
     "text": [
      "pooja your account number is 111 and your balance is 5000\n"
     ]
    }
   ],
   "source": [
    "p=BankAccount(\"pooja\" , 111,5000)\n",
    "p.detail()"
   ]
  },
  {
   "cell_type": "code",
   "execution_count": 118,
   "id": "70a960fb-5fe5-47c1-9ea2-a4b875ffd7b8",
   "metadata": {},
   "outputs": [
    {
     "name": "stdout",
     "output_type": "stream",
     "text": [
      "your account has been credited with 7000 and your new balance is 12000\n"
     ]
    }
   ],
   "source": [
    "p.deposite(7000)"
   ]
  },
  {
   "cell_type": "code",
   "execution_count": 122,
   "id": "78ff1b08-fa22-46f1-b811-f57de96f23a7",
   "metadata": {},
   "outputs": [
    {
     "name": "stdout",
     "output_type": "stream",
     "text": [
      "your account has been debited 3000 and your new balance is 9000\n"
     ]
    }
   ],
   "source": [
    "p.withdrawl(3000)"
   ]
  },
  {
   "cell_type": "markdown",
   "id": "ea035d0b-df5e-451d-a8e7-f05c3d80eb3c",
   "metadata": {},
   "source": [
    "q7.write an example of data class decorator and explain adv od dataclass decorator"
   ]
  },
  {
   "cell_type": "code",
   "execution_count": 130,
   "id": "df936348-ffde-40e5-93a1-6653853e4859",
   "metadata": {},
   "outputs": [
    {
     "name": "stdout",
     "output_type": "stream",
     "text": [
      "Book(title='1984', author='George Orwell', year=1949, isbn='1234567890')\n",
      "Title: 1984\n",
      "Author: George Orwell\n",
      "True\n"
     ]
    }
   ],
   "source": [
    "from dataclasses import dataclass\n",
    "@dataclass\n",
    "class Book:\n",
    "    title: str\n",
    "    author: str\n",
    "    year: int\n",
    "    isbn: str\n",
    "book1 = Book(title=\"1984\", author=\"George Orwell\", year=1949, isbn=\"1234567890\")\n",
    "print(book1)\n",
    "print(f\"Title: {book1.title}\")\n",
    "print(f\"Author: {book1.author}\")\n",
    "book2 = Book(title=\"1984\", author=\"George Orwell\", year=1949, isbn=\"1234567890\")\n",
    "print(book1 == book2)"
   ]
  },
  {
   "cell_type": "markdown",
   "id": "562e94c9-4af3-4895-981d-68fe33e85ef0",
   "metadata": {},
   "source": [
    "1.Reduced Boilerplate Code: The @dataclass decorator automatically generates special methods for you, such as __init__, __repr__, __eq__, and __hash__, based on the class attributes. \n",
    "2.Readable and Maintainable Code: Using @dataclass makes your class definitions more readable and maintainable by clearly specifying the fields and automatically handling the common methods.\n",
    "3Immutability: You can create immutable instances by using the frozen=True parameter in the decorator."
   ]
  },
  {
   "cell_type": "markdown",
   "id": "72ca668d-3250-498d-bace-f0ff80c5ba1b",
   "metadata": {},
   "source": [
    "q8.str=\"i am an engineer\"\n",
    "write a code to print above string like \"engineer an am i\""
   ]
  },
  {
   "cell_type": "code",
   "execution_count": 45,
   "id": "155985e3-428e-4fcd-922b-4370b7ab23e8",
   "metadata": {},
   "outputs": [
    {
     "data": {
      "text/plain": [
       "' i am an engineer'"
      ]
     },
     "execution_count": 45,
     "metadata": {},
     "output_type": "execute_result"
    }
   ],
   "source": [
    "str =\" i am an engineer\"\n",
    "str"
   ]
  },
  {
   "cell_type": "code",
   "execution_count": 47,
   "id": "d702a7bb-efca-45bb-b5ed-4f775cc48bd9",
   "metadata": {},
   "outputs": [
    {
     "name": "stdout",
     "output_type": "stream",
     "text": [
      "['__add__', '__class__', '__contains__', '__delattr__', '__dir__', '__doc__', '__eq__', '__format__', '__ge__', '__getattribute__', '__getitem__', '__getnewargs__', '__getstate__', '__gt__', '__hash__', '__init__', '__init_subclass__', '__iter__', '__le__', '__len__', '__lt__', '__mod__', '__mul__', '__ne__', '__new__', '__reduce__', '__reduce_ex__', '__repr__', '__rmod__', '__rmul__', '__setattr__', '__sizeof__', '__str__', '__subclasshook__', 'capitalize', 'casefold', 'center', 'count', 'encode', 'endswith', 'expandtabs', 'find', 'format', 'format_map', 'index', 'isalnum', 'isalpha', 'isascii', 'isdecimal', 'isdigit', 'isidentifier', 'islower', 'isnumeric', 'isprintable', 'isspace', 'istitle', 'isupper', 'join', 'ljust', 'lower', 'lstrip', 'maketrans', 'partition', 'removeprefix', 'removesuffix', 'replace', 'rfind', 'rindex', 'rjust', 'rpartition', 'rsplit', 'rstrip', 'split', 'splitlines', 'startswith', 'strip', 'swapcase', 'title', 'translate', 'upper', 'zfill']\n"
     ]
    }
   ],
   "source": [
    "print(dir(str))"
   ]
  },
  {
   "cell_type": "code",
   "execution_count": 134,
   "id": "d6550dc3-7c79-4da4-9e8a-659db90e0bda",
   "metadata": {},
   "outputs": [
    {
     "name": "stdout",
     "output_type": "stream",
     "text": [
      "engineer an am I\n"
     ]
    }
   ],
   "source": [
    "string = \"I am an engineer\"\n",
    "reversed_words = \" \".join(string.split()[::-1])\n",
    "print(reversed_words)"
   ]
  },
  {
   "cell_type": "code",
   "execution_count": null,
   "id": "131e358a-d55e-407f-b0ec-f8a1c3a137e4",
   "metadata": {},
   "outputs": [],
   "source": []
  }
 ],
 "metadata": {
  "kernelspec": {
   "display_name": "Python 3 (ipykernel)",
   "language": "python",
   "name": "python3"
  },
  "language_info": {
   "codemirror_mode": {
    "name": "ipython",
    "version": 3
   },
   "file_extension": ".py",
   "mimetype": "text/x-python",
   "name": "python",
   "nbconvert_exporter": "python",
   "pygments_lexer": "ipython3",
   "version": "3.12.4"
  }
 },
 "nbformat": 4,
 "nbformat_minor": 5
}
